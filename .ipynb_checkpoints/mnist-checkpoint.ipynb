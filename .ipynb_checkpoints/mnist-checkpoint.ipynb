{
 "cells": [
  {
   "cell_type": "code",
   "execution_count": 1,
   "id": "14fa5b12",
   "metadata": {
    "execution": {
     "iopub.execute_input": "2023-05-13T06:21:31.437166Z",
     "iopub.status.busy": "2023-05-13T06:21:31.436562Z",
     "iopub.status.idle": "2023-05-13T06:21:36.541391Z",
     "shell.execute_reply": "2023-05-13T06:21:36.540124Z",
     "shell.execute_reply.started": "2023-05-13T06:21:31.437119Z"
    }
   },
   "outputs": [],
   "source": [
    "import torch\n",
    "import torch.nn as nn\n",
    "import torch.optim as optim\n",
    "from torch.utils.data import DataLoader\n",
    "\n",
    "import torchvision\n",
    "from torchvision.transforms import transforms\n",
    "import torch.nn.functional as F\n",
    "\n",
    "import matplotlib.pyplot as plt\n",
    "import time"
   ]
  },
  {
   "cell_type": "code",
   "execution_count": 2,
   "id": "b41bbba4",
   "metadata": {
    "execution": {
     "iopub.execute_input": "2023-05-13T06:21:36.544142Z",
     "iopub.status.busy": "2023-05-13T06:21:36.543402Z",
     "iopub.status.idle": "2023-05-13T06:21:37.440834Z",
     "shell.execute_reply": "2023-05-13T06:21:37.439865Z",
     "shell.execute_reply.started": "2023-05-13T06:21:36.544104Z"
    }
   },
   "outputs": [
    {
     "name": "stdout",
     "output_type": "stream",
     "text": [
      "Downloading http://yann.lecun.com/exdb/mnist/train-images-idx3-ubyte.gz\n",
      "Downloading http://yann.lecun.com/exdb/mnist/train-images-idx3-ubyte.gz to mnist_data/MNIST/raw/train-images-idx3-ubyte.gz\n"
     ]
    },
    {
     "name": "stderr",
     "output_type": "stream",
     "text": [
      "100%|██████████| 9912422/9912422 [00:00<00:00, 236759686.59it/s]"
     ]
    },
    {
     "name": "stdout",
     "output_type": "stream",
     "text": [
      "Extracting mnist_data/MNIST/raw/train-images-idx3-ubyte.gz to mnist_data/MNIST/raw\n"
     ]
    },
    {
     "name": "stderr",
     "output_type": "stream",
     "text": [
      "\n"
     ]
    },
    {
     "name": "stdout",
     "output_type": "stream",
     "text": [
      "\n",
      "Downloading http://yann.lecun.com/exdb/mnist/train-labels-idx1-ubyte.gz\n",
      "Downloading http://yann.lecun.com/exdb/mnist/train-labels-idx1-ubyte.gz to mnist_data/MNIST/raw/train-labels-idx1-ubyte.gz\n"
     ]
    },
    {
     "name": "stderr",
     "output_type": "stream",
     "text": [
      "100%|██████████| 28881/28881 [00:00<00:00, 75852031.20it/s]\n"
     ]
    },
    {
     "name": "stdout",
     "output_type": "stream",
     "text": [
      "Extracting mnist_data/MNIST/raw/train-labels-idx1-ubyte.gz to mnist_data/MNIST/raw\n",
      "\n",
      "Downloading http://yann.lecun.com/exdb/mnist/t10k-images-idx3-ubyte.gz\n",
      "Downloading http://yann.lecun.com/exdb/mnist/t10k-images-idx3-ubyte.gz to mnist_data/MNIST/raw/t10k-images-idx3-ubyte.gz\n"
     ]
    },
    {
     "name": "stderr",
     "output_type": "stream",
     "text": [
      "100%|██████████| 1648877/1648877 [00:00<00:00, 59175933.91it/s]"
     ]
    },
    {
     "name": "stdout",
     "output_type": "stream",
     "text": [
      "Extracting mnist_data/MNIST/raw/t10k-images-idx3-ubyte.gz to mnist_data/MNIST/raw\n",
      "\n",
      "Downloading http://yann.lecun.com/exdb/mnist/t10k-labels-idx1-ubyte.gz\n"
     ]
    },
    {
     "name": "stderr",
     "output_type": "stream",
     "text": [
      "\n"
     ]
    },
    {
     "name": "stdout",
     "output_type": "stream",
     "text": [
      "Downloading http://yann.lecun.com/exdb/mnist/t10k-labels-idx1-ubyte.gz to mnist_data/MNIST/raw/t10k-labels-idx1-ubyte.gz\n"
     ]
    },
    {
     "name": "stderr",
     "output_type": "stream",
     "text": [
      "100%|██████████| 4542/4542 [00:00<00:00, 12854607.81it/s]\n"
     ]
    },
    {
     "name": "stdout",
     "output_type": "stream",
     "text": [
      "Extracting mnist_data/MNIST/raw/t10k-labels-idx1-ubyte.gz to mnist_data/MNIST/raw\n",
      "\n"
     ]
    }
   ],
   "source": [
    "train_set = torchvision.datasets.MNIST('mnist_data', train=True, \n",
    "                                       transform=transforms.ToTensor(), download=True)\n",
    "test_set = torchvision.datasets.MNIST('mnist_data', train=False,     \n",
    "                                       transform=transforms.ToTensor(), download=False)"
   ]
  },
  {
   "cell_type": "code",
   "execution_count": 3,
   "id": "b76458cd",
   "metadata": {
    "execution": {
     "iopub.execute_input": "2023-05-13T06:21:39.824121Z",
     "iopub.status.busy": "2023-05-13T06:21:39.823597Z",
     "iopub.status.idle": "2023-05-13T06:21:39.835594Z",
     "shell.execute_reply": "2023-05-13T06:21:39.834391Z",
     "shell.execute_reply.started": "2023-05-13T06:21:39.824082Z"
    }
   },
   "outputs": [],
   "source": [
    "train_loader = DataLoader(dataset=train_set, batch_size=1024, shuffle=True)\n",
    "test_loader = DataLoader(dataset=test_set, batch_size=1024, shuffle=True)"
   ]
  },
  {
   "cell_type": "code",
   "execution_count": 55,
   "id": "a8356a67",
   "metadata": {
    "execution": {
     "iopub.execute_input": "2023-05-12T19:20:31.627907Z",
     "iopub.status.busy": "2023-05-12T19:20:31.627525Z",
     "iopub.status.idle": "2023-05-12T19:20:31.635294Z",
     "shell.execute_reply": "2023-05-12T19:20:31.634292Z",
     "shell.execute_reply.started": "2023-05-12T19:20:31.627874Z"
    }
   },
   "outputs": [],
   "source": [
    "class MNIST(nn.Module):\n",
    "    def __init__(self, input_size=28*28, out_size=10):\n",
    "        super(MNIST, self).__init__()\n",
    "        \n",
    "        self.fc1 = nn.Linear(input_size, 200)\n",
    "        self.fc2 = nn.Linear(200, 150)\n",
    "        self.fc3 = nn.Linear(150, 100)\n",
    "        self.fc4 = nn.Linear(100, out_size)\n",
    "        \n",
    "        self.relu = nn.ReLU()\n",
    "        \n",
    "    def forward(self,x):\n",
    "        out = self.relu(self.fc1(x)) \n",
    "        out = self.relu(self.fc2(out))\n",
    "        out = self.relu(self.fc3(out))\n",
    "        out = self.fc4(out)\n",
    "        \n",
    "        return out"
   ]
  },
  {
   "cell_type": "code",
   "execution_count": 4,
   "id": "6c022f7e",
   "metadata": {
    "execution": {
     "iopub.execute_input": "2023-05-13T06:21:42.601979Z",
     "iopub.status.busy": "2023-05-13T06:21:42.601412Z",
     "iopub.status.idle": "2023-05-13T06:21:42.637431Z",
     "shell.execute_reply": "2023-05-13T06:21:42.636444Z",
     "shell.execute_reply.started": "2023-05-13T06:21:42.601937Z"
    }
   },
   "outputs": [],
   "source": [
    "device = torch.device(\"cuda\" if torch.cuda.is_available() else \"cpu\")"
   ]
  },
  {
   "cell_type": "code",
   "execution_count": 69,
   "id": "afb3bd0e",
   "metadata": {
    "execution": {
     "iopub.execute_input": "2023-05-12T20:02:53.502126Z",
     "iopub.status.busy": "2023-05-12T20:02:53.501648Z",
     "iopub.status.idle": "2023-05-12T20:02:53.519720Z",
     "shell.execute_reply": "2023-05-12T20:02:53.515976Z",
     "shell.execute_reply.started": "2023-05-12T20:02:53.502083Z"
    }
   },
   "outputs": [],
   "source": [
    "lr = 1e-1\n",
    "model = MNIST().to(device)\n",
    "criterion = nn.CrossEntropyLoss()\n",
    "optimizer = optim.SGD(model.parameters(), lr=lr)"
   ]
  },
  {
   "cell_type": "code",
   "execution_count": 70,
   "id": "bfb9d659",
   "metadata": {
    "execution": {
     "iopub.execute_input": "2023-05-12T20:02:55.295703Z",
     "iopub.status.busy": "2023-05-12T20:02:55.295344Z",
     "iopub.status.idle": "2023-05-12T20:09:48.512792Z",
     "shell.execute_reply": "2023-05-12T20:09:48.511812Z",
     "shell.execute_reply.started": "2023-05-12T20:02:55.295674Z"
    },
    "scrolled": true
   },
   "outputs": [
    {
     "name": "stdout",
     "output_type": "stream",
     "text": [
      "0\n",
      "Train: 43.138333333333335 tensor(2.2362)\n",
      "Val: 42.980000000000004 tensor(2.2346)\n",
      "1\n",
      "Train: 61.70666666666666 tensor(1.2684)\n",
      "Val: 62.7 tensor(1.2548)\n",
      "2\n",
      "Train: 78.75999999999999 tensor(0.7013)\n",
      "Val: 79.51 tensor(0.6801)\n",
      "3\n",
      "Train: 83.53833333333334 tensor(0.5206)\n",
      "Val: 83.83 tensor(0.5097)\n",
      "4\n",
      "Train: 86.545 tensor(0.4548)\n",
      "Val: 86.82 tensor(0.4407)\n",
      "5\n",
      "Train: 89.08833333333334 tensor(0.3769)\n",
      "Val: 89.38000000000001 tensor(0.3642)\n",
      "6\n",
      "Train: 90.05333333333333 tensor(0.3431)\n",
      "Val: 90.02 tensor(0.3324)\n",
      "7\n",
      "Train: 90.70166666666667 tensor(0.3217)\n",
      "Val: 90.53999999999999 tensor(0.3149)\n",
      "8\n",
      "Train: 91.46 tensor(0.2988)\n",
      "Val: 91.52 tensor(0.2955)\n",
      "9\n",
      "Train: 91.94833333333334 tensor(0.2786)\n",
      "Val: 91.61 tensor(0.2773)\n",
      "10\n",
      "Train: 92.47666666666666 tensor(0.2626)\n",
      "Val: 92.34 tensor(0.2581)\n",
      "11\n",
      "Train: 92.95 tensor(0.2423)\n",
      "Val: 92.95 tensor(0.2411)\n",
      "12\n",
      "Train: 92.73 tensor(0.2461)\n",
      "Val: 92.54 tensor(0.2457)\n",
      "13\n",
      "Train: 93.69666666666666 tensor(0.2184)\n",
      "Val: 93.45 tensor(0.2185)\n",
      "14\n",
      "Train: 93.61500000000001 tensor(0.2192)\n",
      "Val: 93.61 tensor(0.2193)\n",
      "15\n",
      "Train: 94.485 tensor(0.1914)\n",
      "Val: 94.31 tensor(0.1951)\n",
      "16\n",
      "Train: 94.70833333333334 tensor(0.1848)\n",
      "Val: 94.56 tensor(0.1895)\n",
      "17\n",
      "Train: 95.00333333333333 tensor(0.1725)\n",
      "Val: 94.89 tensor(0.1775)\n",
      "18\n",
      "Train: 95.30166666666666 tensor(0.1623)\n",
      "Val: 95.02000000000001 tensor(0.1676)\n",
      "19\n",
      "Train: 95.51833333333335 tensor(0.1551)\n",
      "Val: 95.30999999999999 tensor(0.1600)\n",
      "20\n",
      "Train: 95.62833333333333 tensor(0.1517)\n",
      "Val: 95.42 tensor(0.1590)\n",
      "21\n",
      "Train: 95.81666666666668 tensor(0.1461)\n",
      "Val: 95.49 tensor(0.1555)\n",
      "22\n",
      "Train: 96.16166666666666 tensor(0.1326)\n",
      "Val: 95.89 tensor(0.1423)\n",
      "23\n",
      "Train: 96.285 tensor(0.1292)\n",
      "Val: 95.96000000000001 tensor(0.1392)\n",
      "24\n",
      "Train: 95.78333333333333 tensor(0.1405)\n",
      "Val: 95.28999999999999 tensor(0.1525)\n",
      "25\n",
      "Train: 96.56 tensor(0.1196)\n",
      "Val: 96.15 tensor(0.1330)\n",
      "26\n",
      "Train: 96.825 tensor(0.1122)\n",
      "Val: 96.26 tensor(0.1275)\n",
      "27\n",
      "Train: 96.47833333333334 tensor(0.1196)\n",
      "Val: 95.98 tensor(0.1376)\n",
      "28\n",
      "Train: 96.86166666666666 tensor(0.1094)\n",
      "Val: 96.26 tensor(0.1235)\n",
      "29\n",
      "Train: 97.03166666666667 tensor(0.1030)\n",
      "Val: 96.31 tensor(0.1175)\n",
      "413.2008240222931\n"
     ]
    }
   ],
   "source": [
    "import time\n",
    "n_epochs = 30\n",
    "\n",
    "val_accs_sgd, val_losses_sgd = [], []\n",
    "start = time.time()\n",
    "for epoch in range(n_epochs):\n",
    "    print(epoch)\n",
    "    for i, (images, labels) in enumerate(train_loader):\n",
    "        images = images.reshape(-1, 28 * 28).to(device)\n",
    "        labels = labels.to(device)\n",
    "        \n",
    "        optimizer.zero_grad()\n",
    "        output = model(images)\n",
    "        loss = criterion(output, labels)\n",
    "        loss.backward()\n",
    "        \n",
    "        optimizer.step()\n",
    "        \n",
    "    with torch.no_grad():\n",
    "        n_correct = 0\n",
    "        n_samples = 0\n",
    "        losses = []\n",
    "        for images, labels in train_loader:\n",
    "            images = images.reshape(-1, 28*28).to(device)\n",
    "            labels = labels.to(device)\n",
    "            output = model(images)\n",
    "            loss = criterion(output, labels)\n",
    "            losses.append(loss)\n",
    "\n",
    "            _, prediction=torch.max(output, 1)\n",
    "            n_samples += labels.shape[0]\n",
    "            n_correct += (prediction==labels).sum().item()\n",
    "            \n",
    "        \n",
    "        accuracy=(n_correct / n_samples) * 100\n",
    "        print('Train:', accuracy, torch.mean(torch.tensor(losses)))\n",
    "        \n",
    "    with torch.no_grad():\n",
    "        n_correct = 0\n",
    "        n_samples = 0\n",
    "        losses = []\n",
    "        for images, labels in test_loader:\n",
    "            images = images.reshape(-1, 28*28).to(device)\n",
    "            labels = labels.to(device)\n",
    "            output = model(images)\n",
    "            loss = criterion(output, labels)\n",
    "            losses.append(loss)\n",
    "\n",
    "            _, prediction=torch.max(output, 1)\n",
    "            n_samples += labels.shape[0]\n",
    "            n_correct += (prediction==labels).sum().item()\n",
    "            \n",
    "        \n",
    "        accuracy=(n_correct / n_samples) * 100\n",
    "        print('Val:', accuracy, torch.mean(torch.tensor(losses)))\n",
    "        val_accs_sgd.append(accuracy)\n",
    "        val_losses_sgd.append(torch.mean(torch.tensor(losses)))\n",
    "\n",
    "print(time.time() - start)"
   ]
  },
  {
   "cell_type": "code",
   "execution_count": 15,
   "id": "878b9e44",
   "metadata": {
    "execution": {
     "iopub.execute_input": "2023-05-13T06:33:29.934170Z",
     "iopub.status.busy": "2023-05-13T06:33:29.933788Z",
     "iopub.status.idle": "2023-05-13T06:33:29.956421Z",
     "shell.execute_reply": "2023-05-13T06:33:29.955233Z",
     "shell.execute_reply.started": "2023-05-13T06:33:29.934141Z"
    }
   },
   "outputs": [],
   "source": [
    "import numpy as np\n",
    "\n",
    "def t_bounds(p, d, a):\n",
    "    '''\n",
    "    Find minimum and maximum t, so optimized area is inside rectangle\n",
    "    :param p: np.array, point\n",
    "    :param d: np.array, vector\n",
    "    :param a: float, bound\n",
    "    :return: (float, float), min and max t\n",
    "    '''\n",
    "    p = p.flatten()\n",
    "    d = d.flatten()\n",
    "    dim = p.shape[0]\n",
    "   \n",
    "    pos_t, neg_t = torch.inf, -torch.inf\n",
    "    pos_t2, neg_t2 = torch.inf, -torch.inf\n",
    "    t_tmp = (a - p) / d\n",
    "    t_tmp_pos = t_tmp[t_tmp >= 0]\n",
    "    t_tmp_neg = t_tmp[t_tmp < 0]\n",
    "    if len(t_tmp_pos) > 0:\n",
    "        pos_t = t_tmp[t_tmp >= 0].min()\n",
    "    if len(t_tmp_neg) > 0:\n",
    "        neg_t = t_tmp[t_tmp < 0].max()\n",
    "    \n",
    "    t_tmp = (-a - p) / d\n",
    "    t_tmp_pos = t_tmp[t_tmp >= 0]\n",
    "    t_tmp_neg = t_tmp[t_tmp < 0]\n",
    "    if len(t_tmp_pos) > 0:\n",
    "        pos_t2 = t_tmp[t_tmp >= 0].min()\n",
    "    if len(t_tmp_neg) > 0:\n",
    "        neg_t2 = t_tmp[t_tmp < 0].max()\n",
    "        \n",
    "    pos_t = torch.min(torch.tensor(pos_t), torch.tensor(pos_t2))\n",
    "    neg_t = torch.max(torch.tensor(neg_t), torch.tensor(neg_t2))\n",
    "\n",
    "    return (neg_t, pos_t)\n",
    "\n",
    "\n",
    "class GlobalGradientOptimizer(optim.Optimizer):\n",
    "    \n",
    "    def __init__(self, params, lr=1e-3, bound=1):\n",
    "        super(GlobalGradientOptimizer, self).__init__(params, defaults={'lr': lr})\n",
    "        self.state = dict()\n",
    "        self.bound = bound\n",
    "        \n",
    "    def step(self, closure):\n",
    "        for group in self.param_groups:\n",
    "            for p in group['params']:\n",
    "                min_f = closure()\n",
    "                \n",
    "                grad = p.grad.data\n",
    "                point = p.data\n",
    "                d = grad\n",
    "                point = torch.clip(point, -self.bound, self.bound)\n",
    "                lb, rb = t_bounds(point, d, self.bound)\n",
    "                \n",
    "                step = group['lr'] * (rb - lb)\n",
    "                t_arr = torch.arange(lb, rb, step)\n",
    "                min_t = 0\n",
    "\n",
    "                for t in t_arr:\n",
    "                    p.data = point + t * grad\n",
    "                    current_f = closure()\n",
    "                    if current_f < min_f:\n",
    "                        min_t = t\n",
    "                        min_f = current_f\n",
    "                        \n",
    "                p.data = point + min_t * grad\n",
    "\n",
    "\n",
    "class RandomVectorOptimizer(optim.Optimizer):\n",
    "    \n",
    "    def __init__(self, params, lr=1e-3, bound=1, num_vectors=10):\n",
    "        super(RandomVectorOptimizer, self).__init__(params, defaults={'lr': lr})\n",
    "        self.state = dict()\n",
    "        self.bound = bound\n",
    "        self.num_vectors = num_vectors\n",
    "        \n",
    "    def step(self, closure):\n",
    "        for group in self.param_groups:\n",
    "            for p in group['params']:\n",
    "                start_p = p.data\n",
    "                \n",
    "                min_t = 0\n",
    "                min_f = closure()\n",
    "                best_grad = torch.zeros(p.grad.shape).to(device)\n",
    "                for i in range(self.num_vectors):\n",
    "                    min_f = closure()\n",
    "\n",
    "                    grad = (torch.rand(p.grad.shape) * 2 - 1).to(device)\n",
    "                    point = p.data\n",
    "                    d = grad\n",
    "                    d2 = p.grad.data\n",
    "\n",
    "                    point = torch.clip(point, -self.bound, self.bound)\n",
    "                    lb, rb = t_bounds(point, d, self.bound)\n",
    "                    #lb, rb = -100, 100\n",
    "\n",
    "                    step = group['lr'] * (rb - lb)\n",
    "                    t_arr = torch.arange(lb, rb, step)\n",
    "                    min_t = 0\n",
    "\n",
    "                    for t in t_arr:\n",
    "                        p.data = point + t * grad\n",
    "                        current_f = closure()\n",
    "                        if current_f < min_f:\n",
    "                            min_t = t\n",
    "                            min_f = current_f\n",
    "                            best_grad = grad\n",
    "\n",
    "                p.data = start_p + min_t * best_grad"
   ]
  },
  {
   "cell_type": "code",
   "execution_count": 65,
   "id": "6152b1de",
   "metadata": {
    "execution": {
     "iopub.execute_input": "2023-05-12T19:42:26.947286Z",
     "iopub.status.busy": "2023-05-12T19:42:26.946594Z",
     "iopub.status.idle": "2023-05-12T19:58:42.184276Z",
     "shell.execute_reply": "2023-05-12T19:58:42.183336Z",
     "shell.execute_reply.started": "2023-05-12T19:42:26.947249Z"
    },
    "scrolled": true
   },
   "outputs": [
    {
     "name": "stdout",
     "output_type": "stream",
     "text": [
      "0\n"
     ]
    },
    {
     "name": "stderr",
     "output_type": "stream",
     "text": [
      "/tmp/ipykernel_31/687152550.py:34: UserWarning: To copy construct from a tensor, it is recommended to use sourceTensor.clone().detach() or sourceTensor.clone().detach().requires_grad_(True), rather than torch.tensor(sourceTensor).\n",
      "  pos_t = torch.min(torch.tensor(pos_t), torch.tensor(pos_t2))\n",
      "/tmp/ipykernel_31/687152550.py:35: UserWarning: To copy construct from a tensor, it is recommended to use sourceTensor.clone().detach() or sourceTensor.clone().detach().requires_grad_(True), rather than torch.tensor(sourceTensor).\n",
      "  neg_t = torch.max(torch.tensor(neg_t), torch.tensor(neg_t2))\n"
     ]
    },
    {
     "name": "stdout",
     "output_type": "stream",
     "text": [
      "Train: 86.84166666666667 tensor(0.4999)\n",
      "Val: 87.14 tensor(0.4832)\n",
      "1\n",
      "Train: 87.13333333333333 tensor(0.4756)\n",
      "Val: 87.49 tensor(0.4579)\n",
      "2\n",
      "Train: 87.275 tensor(0.4711)\n",
      "Val: 87.64 tensor(0.4517)\n",
      "3\n",
      "Train: 87.48166666666667 tensor(0.4468)\n",
      "Val: 87.82 tensor(0.4319)\n",
      "4\n",
      "Train: 87.795 tensor(0.4401)\n",
      "Val: 88.2 tensor(0.4235)\n",
      "5\n",
      "Train: 88.11166666666666 tensor(0.4270)\n",
      "Val: 88.46000000000001 tensor(0.4082)\n",
      "6\n",
      "Train: 88.56166666666667 tensor(0.4122)\n",
      "Val: 88.97 tensor(0.3978)\n",
      "7\n",
      "Train: 88.58500000000001 tensor(0.4042)\n",
      "Val: 89.0 tensor(0.3900)\n",
      "8\n",
      "Train: 88.675 tensor(0.4013)\n",
      "Val: 88.92999999999999 tensor(0.3855)\n",
      "9\n",
      "Train: 88.765 tensor(0.3959)\n",
      "Val: 89.09 tensor(0.3804)\n",
      "10\n",
      "Train: 88.82666666666667 tensor(0.3933)\n",
      "Val: 89.05 tensor(0.3779)\n",
      "11\n",
      "Train: 88.85 tensor(0.3905)\n",
      "Val: 89.25 tensor(0.3759)\n",
      "12\n",
      "Train: 89.09 tensor(0.3837)\n",
      "Val: 89.41 tensor(0.3683)\n",
      "13\n",
      "Train: 89.06833333333334 tensor(0.3818)\n",
      "Val: 89.44 tensor(0.3665)\n",
      "14\n",
      "Train: 89.33166666666666 tensor(0.3721)\n",
      "Val: 89.68 tensor(0.3560)\n",
      "15\n",
      "Train: 89.44666666666666 tensor(0.3694)\n",
      "Val: 89.88000000000001 tensor(0.3529)\n",
      "16\n",
      "Train: 89.68 tensor(0.3627)\n",
      "Val: 90.09 tensor(0.3477)\n",
      "17\n",
      "Train: 89.63166666666666 tensor(0.3627)\n",
      "Val: 89.92999999999999 tensor(0.3487)\n",
      "18\n",
      "Train: 88.94833333333332 tensor(0.3730)\n",
      "Val: 89.42999999999999 tensor(0.3587)\n",
      "19\n",
      "Train: 89.435 tensor(0.3647)\n",
      "Val: 89.95 tensor(0.3512)\n",
      "20\n",
      "Train: 89.71333333333334 tensor(0.3554)\n",
      "Val: 90.14999999999999 tensor(0.3424)\n",
      "21\n",
      "Train: 89.685 tensor(0.3534)\n",
      "Val: 89.96 tensor(0.3403)\n",
      "22\n",
      "Train: 89.56833333333334 tensor(0.3555)\n",
      "Val: 89.94 tensor(0.3411)\n",
      "23\n",
      "Train: 89.66333333333333 tensor(0.3512)\n",
      "Val: 90.02 tensor(0.3374)\n",
      "24\n",
      "Train: 89.81666666666666 tensor(0.3490)\n",
      "Val: 90.14 tensor(0.3371)\n",
      "25\n",
      "Train: 89.7 tensor(0.3538)\n",
      "Val: 90.02 tensor(0.3408)\n",
      "26\n",
      "Train: 89.85666666666667 tensor(0.3441)\n",
      "Val: 90.14 tensor(0.3332)\n",
      "27\n",
      "Train: 90.065 tensor(0.3386)\n",
      "Val: 90.53999999999999 tensor(0.3251)\n",
      "28\n",
      "Train: 90.18166666666667 tensor(0.3345)\n",
      "Val: 90.53999999999999 tensor(0.3204)\n",
      "29\n",
      "Train: 90.25833333333333 tensor(0.3309)\n",
      "Val: 90.53 tensor(0.3180)\n",
      "975.2176170349121\n"
     ]
    }
   ],
   "source": [
    "lr = 1e-1 / 4\n",
    "model = MNIST().to(device)\n",
    "criterion = nn.CrossEntropyLoss()\n",
    "optimizer = GlobalGradientOptimizer(model.parameters(), bound=1, lr=lr)\n",
    "#optimizer = GlobalGradientOptimizer(model.parameters(), bound=1, lr=lr)\n",
    "#optimizer = RandomVectorOptimizer(model.parameters(), lr=lr)\n",
    "\n",
    "n_epochs = 30\n",
    "\n",
    "val_accs = []\n",
    "val_losses = []\n",
    "start = time.time()\n",
    "for epoch in range(n_epochs):\n",
    "    print(epoch)\n",
    "    n_correct = 0\n",
    "    n_samples = 0\n",
    "    \n",
    "    for i, (images, labels) in enumerate(train_loader):\n",
    "        #print(i)\n",
    "        images = images.reshape(-1, 28 * 28).to(device)\n",
    "        labels = labels.to(device)\n",
    "        \n",
    "        def closure():\n",
    "            optimizer.zero_grad()\n",
    "            output = model(images)\n",
    "            loss = criterion(output, labels)\n",
    "            loss.backward()\n",
    "            return loss\n",
    "        \n",
    "        optimizer.step(closure)\n",
    "        \n",
    "    with torch.no_grad():\n",
    "        n_correct = 0\n",
    "        n_samples = 0\n",
    "        losses = []\n",
    "        for images, labels in train_loader:\n",
    "            images = images.reshape(-1, 28*28).to(device)\n",
    "            labels = labels.to(device)\n",
    "            output = model(images)\n",
    "            loss = criterion(output, labels)\n",
    "            losses.append(loss)\n",
    "\n",
    "            _, prediction=torch.max(output, 1)\n",
    "            n_samples += labels.shape[0]\n",
    "            n_correct += (prediction==labels).sum().item()\n",
    "            \n",
    "        \n",
    "        accuracy=(n_correct / n_samples) * 100\n",
    "        print('Train:', accuracy, torch.mean(torch.tensor(losses)))\n",
    "        \n",
    "    with torch.no_grad():\n",
    "        n_correct = 0\n",
    "        n_samples = 0\n",
    "        losses = []\n",
    "        for images, labels in test_loader:\n",
    "            images = images.reshape(-1, 28*28).to(device)\n",
    "            labels = labels.to(device)\n",
    "            output = model(images)\n",
    "            loss = criterion(output, labels)\n",
    "            losses.append(loss)\n",
    "\n",
    "            _, prediction=torch.max(output, 1)\n",
    "            n_samples += labels.shape[0]\n",
    "            n_correct += (prediction==labels).sum().item()\n",
    "            \n",
    "        \n",
    "        accuracy=(n_correct / n_samples) * 100\n",
    "        print('Val:', accuracy, torch.mean(torch.tensor(losses)))\n",
    "        val_accs.append(accuracy)\n",
    "        val_losses.append(torch.mean(torch.tensor(losses)))\n",
    "\n",
    "print(time.time() - start)"
   ]
  },
  {
   "cell_type": "code",
   "execution_count": 78,
   "id": "61ac685f",
   "metadata": {
    "execution": {
     "iopub.execute_input": "2023-05-12T21:27:13.633954Z",
     "iopub.status.busy": "2023-05-12T21:27:13.633590Z",
     "iopub.status.idle": "2023-05-12T21:27:13.856584Z",
     "shell.execute_reply": "2023-05-12T21:27:13.855666Z",
     "shell.execute_reply.started": "2023-05-12T21:27:13.633925Z"
    }
   },
   "outputs": [
    {
     "data": {
      "image/png": "[encoded data removed]",
      "text/plain": [
       "<Figure size 640x480 with 1 Axes>"
      ]
     },
     "metadata": {},
     "output_type": "display_data"
    }
   ],
   "source": [
    "plt.plot(val_accs, label='global')\n",
    "plt.plot(val_accs_sgd, label='sgd')\n",
    "plt.xlabel('Iteraion')\n",
    "plt.ylabel('Accuracy')\n",
    "plt.legend()\n",
    "\n",
    "plt.show()"
   ]
  },
  {
   "cell_type": "code",
   "execution_count": 72,
   "id": "3d5e1188",
   "metadata": {
    "execution": {
     "iopub.execute_input": "2023-05-12T20:18:08.775775Z",
     "iopub.status.busy": "2023-05-12T20:18:08.775339Z",
     "iopub.status.idle": "2023-05-12T20:18:08.787168Z",
     "shell.execute_reply": "2023-05-12T20:18:08.785765Z",
     "shell.execute_reply.started": "2023-05-12T20:18:08.775723Z"
    }
   },
   "outputs": [],
   "source": [
    "class CNN(nn.Module):\n",
    "    def __init__(self):\n",
    "        super(CNN, self).__init__()\n",
    "        self.conv1 = nn.Sequential(         \n",
    "            nn.Conv2d(\n",
    "                in_channels=1,              \n",
    "                out_channels=16,            \n",
    "                kernel_size=5,              \n",
    "                stride=1,                   \n",
    "                padding=2,                  \n",
    "            ),                              \n",
    "            nn.ReLU(),                      \n",
    "            nn.MaxPool2d(kernel_size=2),    \n",
    "        )\n",
    "        self.conv2 = nn.Sequential(         \n",
    "            nn.Conv2d(16, 32, 5, 1, 2),     \n",
    "            nn.ReLU(),                      \n",
    "            nn.MaxPool2d(2),                \n",
    "        )\n",
    "        \n",
    "        self.out = nn.Linear(32 * 7 * 7, 10)\n",
    "    def forward(self, x):\n",
    "        x = self.conv1(x)\n",
    "        x = self.conv2(x)\n",
    "\n",
    "        x = x.view(x.size(0), -1)       \n",
    "        output = self.out(x)\n",
    "        return output"
   ]
  },
  {
   "cell_type": "code",
   "execution_count": 12,
   "id": "cb807c7e",
   "metadata": {
    "execution": {
     "iopub.execute_input": "2023-05-13T06:29:09.263892Z",
     "iopub.status.busy": "2023-05-13T06:29:09.263526Z",
     "iopub.status.idle": "2023-05-13T06:29:09.275077Z",
     "shell.execute_reply": "2023-05-13T06:29:09.273636Z",
     "shell.execute_reply.started": "2023-05-13T06:29:09.263863Z"
    }
   },
   "outputs": [],
   "source": [
    "class CNN(nn.Module):\n",
    "    def __init__(self):\n",
    "        super(CNN, self).__init__()\n",
    "        self.conv = nn.Conv2d(1, 16, 5)\n",
    "        self.relu = nn.ReLU()\n",
    "        self.maxpool = nn.MaxPool2d(2)\n",
    "        \n",
    "        self.conv2 = nn.Conv2d(16, 32, 3)\n",
    "        self.relu2 = nn.ReLU()\n",
    "        self.maxpool2 = nn.MaxPool2d(2)\n",
    "        \n",
    "        self.out = nn.Linear(32 * 5 * 5, 10)\n",
    "    def forward(self, x):\n",
    "        x = self.conv(x)\n",
    "        x = self.relu(x)\n",
    "        x = self.maxpool(x)\n",
    "        \n",
    "        x = self.conv2(x)\n",
    "        x = self.relu2(x)\n",
    "        x = self.maxpool2(x)\n",
    "\n",
    "        x = x.view(x.size(0), -1)       \n",
    "        output = self.out(x)\n",
    "        return output"
   ]
  },
  {
   "cell_type": "code",
   "execution_count": 13,
   "id": "8723c78e",
   "metadata": {
    "execution": {
     "iopub.execute_input": "2023-05-13T06:29:11.864688Z",
     "iopub.status.busy": "2023-05-13T06:29:11.864026Z",
     "iopub.status.idle": "2023-05-13T06:31:31.105771Z",
     "shell.execute_reply": "2023-05-13T06:31:31.104876Z",
     "shell.execute_reply.started": "2023-05-13T06:29:11.864652Z"
    }
   },
   "outputs": [
    {
     "name": "stdout",
     "output_type": "stream",
     "text": [
      "0\n",
      "Train: 78.15333333333334 tensor(0.6187)\n",
      "Val: 79.09 tensor(0.5930)\n",
      "1\n",
      "Train: 92.16666666666666 tensor(0.2712)\n",
      "Val: 92.80000000000001 tensor(0.2547)\n",
      "2\n",
      "Train: 94.135 tensor(0.2016)\n",
      "Val: 94.62 tensor(0.1863)\n",
      "3\n",
      "Train: 95.325 tensor(0.1630)\n",
      "Val: 95.59 tensor(0.1504)\n",
      "4\n",
      "Train: 95.73333333333333 tensor(0.1464)\n",
      "Val: 95.98 tensor(0.1346)\n",
      "5\n",
      "Train: 96.465 tensor(0.1242)\n",
      "Val: 96.67 tensor(0.1142)\n",
      "6\n",
      "Train: 96.69 tensor(0.1145)\n",
      "Val: 96.87 tensor(0.1060)\n",
      "7\n",
      "Train: 96.87333333333333 tensor(0.1039)\n",
      "Val: 97.14 tensor(0.0936)\n",
      "8\n",
      "Train: 97.08666666666666 tensor(0.0983)\n",
      "Val: 97.06 tensor(0.0877)\n",
      "9\n",
      "Train: 97.38 tensor(0.0898)\n",
      "Val: 97.48 tensor(0.0799)\n",
      "139.22251629829407\n"
     ]
    }
   ],
   "source": [
    "n_epochs = 10\n",
    "lr = 0.1\n",
    "\n",
    "model = CNN().to(device)\n",
    "criterion = nn.CrossEntropyLoss()\n",
    "optimizer = optim.SGD(model.parameters(), lr=lr)\n",
    "\n",
    "accs_cnn_sgd, losses_cnn_sgd = [], []\n",
    "start = time.time()\n",
    "for epoch in range(n_epochs):\n",
    "    print(epoch)\n",
    "    for i, (images, labels) in enumerate(train_loader):\n",
    "        images = images.to(device)\n",
    "        labels = labels.to(device)\n",
    "        \n",
    "        optimizer.zero_grad()\n",
    "        output = model(images)\n",
    "        loss = criterion(output, labels)\n",
    "        loss.backward()\n",
    "        \n",
    "        optimizer.step()\n",
    "        \n",
    "    with torch.no_grad():\n",
    "        n_correct = 0\n",
    "        n_samples = 0\n",
    "        losses = []\n",
    "        for images, labels in train_loader:\n",
    "            images = images.to(device)\n",
    "            labels = labels.to(device)\n",
    "            output = model(images)\n",
    "            loss = criterion(output, labels)\n",
    "            losses.append(loss)\n",
    "\n",
    "            _, prediction=torch.max(output, 1)\n",
    "            n_samples += labels.shape[0]\n",
    "            n_correct += (prediction==labels).sum().item()\n",
    "            \n",
    "        \n",
    "        accuracy=(n_correct / n_samples) * 100\n",
    "        print('Train:', accuracy, torch.mean(torch.tensor(losses)))\n",
    "        \n",
    "    with torch.no_grad():\n",
    "        n_correct = 0\n",
    "        n_samples = 0\n",
    "        losses = []\n",
    "        for images, labels in test_loader:\n",
    "            images = images.to(device)\n",
    "            labels = labels.to(device)\n",
    "            output = model(images)\n",
    "            loss = criterion(output, labels)\n",
    "            losses.append(loss)\n",
    "\n",
    "            _, prediction=torch.max(output, 1)\n",
    "            n_samples += labels.shape[0]\n",
    "            n_correct += (prediction==labels).sum().item()\n",
    "            \n",
    "        \n",
    "        accuracy=(n_correct / n_samples) * 100\n",
    "        print('Val:', accuracy, torch.mean(torch.tensor(losses)))\n",
    "        accs_cnn_sgd.append(accuracy)\n",
    "        losses_cnn_sgd.append(torch.mean(torch.tensor(losses)))\n",
    "\n",
    "print(time.time() - start)"
   ]
  },
  {
   "cell_type": "code",
   "execution_count": 16,
   "id": "76cbe0f5",
   "metadata": {
    "execution": {
     "iopub.execute_input": "2023-05-13T06:33:39.515399Z",
     "iopub.status.busy": "2023-05-13T06:33:39.515060Z",
     "iopub.status.idle": "2023-05-13T06:50:50.546881Z",
     "shell.execute_reply": "2023-05-13T06:50:50.545958Z",
     "shell.execute_reply.started": "2023-05-13T06:33:39.515371Z"
    }
   },
   "outputs": [
    {
     "name": "stdout",
     "output_type": "stream",
     "text": [
      "0\n"
     ]
    },
    {
     "name": "stderr",
     "output_type": "stream",
     "text": [
      "/tmp/ipykernel_31/687152550.py:34: UserWarning: To copy construct from a tensor, it is recommended to use sourceTensor.clone().detach() or sourceTensor.clone().detach().requires_grad_(True), rather than torch.tensor(sourceTensor).\n",
      "  pos_t = torch.min(torch.tensor(pos_t), torch.tensor(pos_t2))\n",
      "/tmp/ipykernel_31/687152550.py:35: UserWarning: To copy construct from a tensor, it is recommended to use sourceTensor.clone().detach() or sourceTensor.clone().detach().requires_grad_(True), rather than torch.tensor(sourceTensor).\n",
      "  neg_t = torch.max(torch.tensor(neg_t), torch.tensor(neg_t2))\n"
     ]
    },
    {
     "name": "stdout",
     "output_type": "stream",
     "text": [
      "Train: 79.62833333333333 tensor(0.6748)\n",
      "Val: 79.99000000000001 tensor(0.6563)\n",
      "1\n",
      "Train: 83.62666666666667 tensor(0.5624)\n",
      "Val: 84.0 tensor(0.5459)\n",
      "2\n",
      "Train: 84.32166666666666 tensor(0.5304)\n",
      "Val: 84.81 tensor(0.5129)\n",
      "3\n",
      "Train: 85.46000000000001 tensor(0.4963)\n",
      "Val: 86.08 tensor(0.4806)\n",
      "4\n",
      "Train: 86.085 tensor(0.4747)\n",
      "Val: 86.56 tensor(0.4609)\n",
      "5\n",
      "Train: 86.66833333333334 tensor(0.4600)\n",
      "Val: 87.21 tensor(0.4435)\n",
      "6\n",
      "Train: 87.12333333333333 tensor(0.4449)\n",
      "Val: 87.6 tensor(0.4307)\n",
      "7\n",
      "Train: 86.93666666666667 tensor(0.4433)\n",
      "Val: 87.47 tensor(0.4289)\n",
      "8\n",
      "Train: 88.12333333333333 tensor(0.4153)\n",
      "Val: 88.62 tensor(0.4000)\n",
      "9\n",
      "Train: 88.24 tensor(0.4061)\n",
      "Val: 88.68 tensor(0.3916)\n",
      "1031.0057249069214\n"
     ]
    }
   ],
   "source": [
    "lr = 1e-1 / 4\n",
    "model = CNN().to(device)\n",
    "criterion = nn.CrossEntropyLoss()\n",
    "optimizer = GlobalGradientOptimizer(model.parameters(), lr=lr, bound=0.6)\n",
    "\n",
    "n_epochs = 10\n",
    "\n",
    "accs_cnn, losses_cnn = [], []\n",
    "start = time.time()\n",
    "for epoch in range(n_epochs):\n",
    "    print(epoch)\n",
    "    n_correct = 0\n",
    "    n_samples = 0\n",
    "    \n",
    "    for i, (images, labels) in enumerate(train_loader):\n",
    "        images = images.to(device)\n",
    "        labels = labels.to(device)\n",
    "        \n",
    "        def closure():\n",
    "            optimizer.zero_grad()\n",
    "            output = model(images)\n",
    "            loss = criterion(output, labels)\n",
    "            loss.backward()\n",
    "            return loss\n",
    "        \n",
    "        optimizer.step(closure)\n",
    "        \n",
    "    with torch.no_grad():\n",
    "        n_correct = 0\n",
    "        n_samples = 0\n",
    "        losses = []\n",
    "        for images, labels in train_loader:\n",
    "            images = images.to(device)\n",
    "            labels = labels.to(device)\n",
    "            output = model(images)\n",
    "            loss = criterion(output, labels)\n",
    "            losses.append(loss)\n",
    "\n",
    "            _, prediction=torch.max(output, 1)\n",
    "            n_samples += labels.shape[0]\n",
    "            n_correct += (prediction==labels).sum().item()\n",
    "            \n",
    "        \n",
    "        accuracy=(n_correct / n_samples) * 100\n",
    "        print('Train:', accuracy, torch.mean(torch.tensor(losses)))\n",
    "        \n",
    "    with torch.no_grad():\n",
    "        n_correct = 0\n",
    "        n_samples = 0\n",
    "        losses = []\n",
    "        for images, labels in test_loader:\n",
    "            images = images.to(device)\n",
    "            labels = labels.to(device)\n",
    "            output = model(images)\n",
    "            loss = criterion(output, labels)\n",
    "            losses.append(loss)\n",
    "\n",
    "            _, prediction=torch.max(output, 1)\n",
    "            n_samples += labels.shape[0]\n",
    "            n_correct += (prediction==labels).sum().item()\n",
    "            \n",
    "        \n",
    "        accuracy=(n_correct / n_samples) * 100\n",
    "        print('Val:', accuracy, torch.mean(torch.tensor(losses)))\n",
    "        accs_cnn.append(accuracy)\n",
    "        losses_cnn.append(torch.mean(torch.tensor(losses)))\n",
    "\n",
    "print(time.time() - start)"
   ]
  },
  {
   "cell_type": "code",
   "execution_count": 17,
   "id": "8255de74",
   "metadata": {
    "execution": {
     "iopub.execute_input": "2023-05-13T07:00:52.114631Z",
     "iopub.status.busy": "2023-05-13T07:00:52.114199Z",
     "iopub.status.idle": "2023-05-13T07:00:52.450506Z",
     "shell.execute_reply": "2023-05-13T07:00:52.449567Z",
     "shell.execute_reply.started": "2023-05-13T07:00:52.114594Z"
    }
   },
   "outputs": [
    {
     "data": {
      "image/png": "[encoded data removed]",
      "text/plain": [
       "<Figure size 640x480 with 1 Axes>"
      ]
     },
     "metadata": {},
     "output_type": "display_data"
    }
   ],
   "source": [
    "plt.plot(accs_cnn, label='global')\n",
    "plt.plot(accs_cnn_sgd, label='sgd')\n",
    "plt.xlabel('Iteraion')\n",
    "plt.ylabel('Accuracy')\n",
    "plt.legend()\n",
    "\n",
    "plt.show()"
   ]
  }
 ],
 "metadata": {
  "kernelspec": {
   "display_name": "Python 3",
   "language": "python",
   "name": "python3"
  },
  "language_info": {
   "codemirror_mode": {
    "name": "ipython",
    "version": 3
   },
   "file_extension": ".py",
   "mimetype": "text/x-python",
   "name": "python",
   "nbconvert_exporter": "python",
   "pygments_lexer": "ipython3",
   "version": "3.10.10"
  }
 },
 "nbformat": 4,
 "nbformat_minor": 5
}
